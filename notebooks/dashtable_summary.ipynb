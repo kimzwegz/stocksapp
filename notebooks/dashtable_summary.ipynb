{
 "cells": [
  {
   "cell_type": "code",
   "execution_count": 4,
   "metadata": {},
   "outputs": [],
   "source": [
    "import dash\n",
    "from dash import dash_table, html\n",
    "from jupyter_dash import JupyterDash"
   ]
  },
  {
   "cell_type": "code",
   "execution_count": 21,
   "metadata": {},
   "outputs": [],
   "source": [
    "\n",
    "\n",
    "dash_tbl_1 = dash_table.DataTable(id='first-table',\n",
    "                                 columns=[{\"name\": \"item\", \"id\": \"item\"},{\"name\": \"ticker\", \"id\": \"ticker\"}],\n",
    "                                 data=[{'item': 'Ticker', 'ticker': 'AAPL'}, {'item': 'Company', 'ticker': 'Apple Inc.'}],\n",
    "                                 style_header = {'display': 'none'},\n",
    "                                 style_data = {'whiteSpace': 'normal',\n",
    "                                               'height': 'auto',\n",
    "                                               'lineHeight': '15px',\n",
    "                                               'border': 'none',\n",
    "                                            #    'backgroundColor': '#272b30',\n",
    "                                            #    'color': 'white'\n",
    "#                                                'textAlign': 'center'\n",
    "                                              },\n",
    "                                style_cell_conditional=[\n",
    "                                    {'if': {'column_id': 'item'},\n",
    "                                     'width': '40%',\n",
    "                                     'textAlign': 'left',\n",
    "                                     'fontWeight' : 'bold'\n",
    "# #                                      'backgroundColor': 'rgba(0, 116, 217, 0.3)',\n",
    "# #                                      'color': 'rgba(0,20,80,1)'\n",
    "                                    }]\n",
    "                                    )"
   ]
  },
  {
   "cell_type": "code",
   "execution_count": 22,
   "metadata": {},
   "outputs": [
    {
     "name": "stdout",
     "output_type": "stream",
     "text": [
      "Dash app running on http://127.0.0.1:8099/\n"
     ]
    }
   ],
   "source": [
    "app = JupyterDash(__name__, suppress_callback_exceptions=True)\n",
    "app.layout = html.Div([\n",
    "    html.H1('hi'),\n",
    "    html.H2('Table'),\n",
    "dash_tbl_1\n",
    "])\n",
    "\n",
    "app.run_server(debug=True, port=8099)"
   ]
  },
  {
   "cell_type": "code",
   "execution_count": null,
   "metadata": {},
   "outputs": [],
   "source": []
  }
 ],
 "metadata": {
  "kernelspec": {
   "display_name": "Python 3.9.12 64-bit ('stocksappenv')",
   "language": "python",
   "name": "python3"
  },
  "language_info": {
   "codemirror_mode": {
    "name": "ipython",
    "version": 3
   },
   "file_extension": ".py",
   "mimetype": "text/x-python",
   "name": "python",
   "nbconvert_exporter": "python",
   "pygments_lexer": "ipython3",
   "version": "3.9.12"
  },
  "orig_nbformat": 4,
  "vscode": {
   "interpreter": {
    "hash": "4d51146faf6500871cfa7ab6d5001cee160c6e51593870fae9965e5049392100"
   }
  }
 },
 "nbformat": 4,
 "nbformat_minor": 2
}
