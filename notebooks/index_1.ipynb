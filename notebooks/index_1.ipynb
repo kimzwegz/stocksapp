{
 "cells": [
  {
   "cell_type": "code",
   "execution_count": 42,
   "metadata": {},
   "outputs": [],
   "source": [
    "from dash import Dash\n",
    "import dash_core_components as dcc\n",
    "import dash_html_components as html\n",
    "import dash_bootstrap_components as dbc\n",
    "import plotly.express as px\n",
    "import pandas as pd\n",
    "from dash.dependencies import Input, Output\n",
    "import plotly.express as px\n"
   ]
  },
  {
   "cell_type": "code",
   "execution_count": 43,
   "metadata": {},
   "outputs": [
    {
     "name": "stdout",
     "output_type": "stream",
     "text": [
      "['/Users/karimkhalil/Coding/development/stocksapp/notebooks', '/Users/karimkhalil/Coding/development/stocksapp/stocksappenv/lib/python39.zip', '/Users/karimkhalil/Coding/development/stocksapp/stocksappenv/lib/python3.9', '/Users/karimkhalil/Coding/development/stocksapp/stocksappenv/lib/python3.9/lib-dynload', '', '/Users/karimkhalil/Coding/development/stocksapp/stocksappenv/lib/python3.9/site-packages', '/Users/karimkhalil/Coding/development']\n"
     ]
    }
   ],
   "source": [
    "from os import pardir, path\n",
    "import sys\n",
    "\n",
    "# mod_path = path.abspath(path.join(pardir))\n",
    "mypackage = r'/Users/karimkhalil/Coding/development'\n",
    "\n",
    "dirs = [mypackage]\n",
    "# print(dirs)\n",
    "\n",
    "for i in dirs:\n",
    "    # print(i)\n",
    "    if i not in sys.path:\n",
    "        sys.path.append(i)\n",
    "\n",
    "print(sys.path)"
   ]
  },
  {
   "cell_type": "code",
   "execution_count": 44,
   "metadata": {},
   "outputs": [],
   "source": [
    "# from mypackages.db_loader.mongo import DB_mongo\n",
    "\n",
    "from mypackages import DB_mongo\n",
    "from pymongo import MongoClient, ASCENDING , DESCENDING\n",
    "import pandas as pd"
   ]
  },
  {
   "cell_type": "code",
   "execution_count": 45,
   "metadata": {},
   "outputs": [
    {
     "data": {
      "text/plain": [
       "Collection(Database(MongoClient(host=['localhost:27017'], document_class=dict, tz_aware=False, connect=True), 'db_fin'), 'tables')"
      ]
     },
     "execution_count": 45,
     "metadata": {},
     "output_type": "execute_result"
    }
   ],
   "source": [
    "stock = DB_mongo._CLIENT.db_fin\n",
    "mongo_stock = DB_mongo(stock)\n",
    "mongo_stock.db.tables"
   ]
  },
  {
   "cell_type": "code",
   "execution_count": 46,
   "metadata": {},
   "outputs": [
    {
     "name": "stdout",
     "output_type": "stream",
     "text": [
      "['cf', 'prices_bckup', 'company_today', 'mrktcap', 'company_wfinancials', 'prices_n_fin', 'bs', 'fx', 'profile', 'idx_price', 'prices', 'idx_all', 'pnl']\n"
     ]
    }
   ],
   "source": [
    "tables = mongo_stock.all_tables\n",
    "print(tables)"
   ]
  },
  {
   "cell_type": "code",
   "execution_count": 47,
   "metadata": {},
   "outputs": [
    {
     "data": {
      "text/html": [
       "<div>\n",
       "<style scoped>\n",
       "    .dataframe tbody tr th:only-of-type {\n",
       "        vertical-align: middle;\n",
       "    }\n",
       "\n",
       "    .dataframe tbody tr th {\n",
       "        vertical-align: top;\n",
       "    }\n",
       "\n",
       "    .dataframe thead th {\n",
       "        text-align: right;\n",
       "    }\n",
       "</style>\n",
       "<table border=\"1\" class=\"dataframe\">\n",
       "  <thead>\n",
       "    <tr style=\"text-align: right;\">\n",
       "      <th></th>\n",
       "      <th>_id</th>\n",
       "      <th>symbol</th>\n",
       "      <th>name</th>\n",
       "      <th>currency</th>\n",
       "      <th>stockExchange</th>\n",
       "      <th>exchangeShortName</th>\n",
       "    </tr>\n",
       "  </thead>\n",
       "  <tbody>\n",
       "    <tr>\n",
       "      <th>0</th>\n",
       "      <td>62cc22fa4c9eba2a564feccc</td>\n",
       "      <td>TYX</td>\n",
       "      <td>Treasury Yield 30 Years</td>\n",
       "      <td>USD</td>\n",
       "      <td>NYBOT</td>\n",
       "      <td>INDEX</td>\n",
       "    </tr>\n",
       "    <tr>\n",
       "      <th>1</th>\n",
       "      <td>62cc22fa4c9eba2a564feccd</td>\n",
       "      <td>FVX</td>\n",
       "      <td>Treasury Yield 5 Years</td>\n",
       "      <td>USD</td>\n",
       "      <td>NYBOT</td>\n",
       "      <td>INDEX</td>\n",
       "    </tr>\n",
       "    <tr>\n",
       "      <th>2</th>\n",
       "      <td>62cc22fa4c9eba2a564fecce</td>\n",
       "      <td>TNX</td>\n",
       "      <td>Treasury Yield 10 Years</td>\n",
       "      <td>USD</td>\n",
       "      <td>NYBOT</td>\n",
       "      <td>INDEX</td>\n",
       "    </tr>\n",
       "    <tr>\n",
       "      <th>3</th>\n",
       "      <td>62cc22fa4c9eba2a564feccf</td>\n",
       "      <td>SPGSCI</td>\n",
       "      <td>S&amp;P GSCI Index</td>\n",
       "      <td>USD</td>\n",
       "      <td>SNP</td>\n",
       "      <td>INDEX</td>\n",
       "    </tr>\n",
       "    <tr>\n",
       "      <th>4</th>\n",
       "      <td>62cc22fa4c9eba2a564fecd0</td>\n",
       "      <td>STI</td>\n",
       "      <td>STI Index</td>\n",
       "      <td>SGD</td>\n",
       "      <td>SES</td>\n",
       "      <td>INDEX</td>\n",
       "    </tr>\n",
       "    <tr>\n",
       "      <th>...</th>\n",
       "      <td>...</td>\n",
       "      <td>...</td>\n",
       "      <td>...</td>\n",
       "      <td>...</td>\n",
       "      <td>...</td>\n",
       "      <td>...</td>\n",
       "    </tr>\n",
       "    <tr>\n",
       "      <th>58</th>\n",
       "      <td>62cc22fa4c9eba2a564fed06</td>\n",
       "      <td>XAX</td>\n",
       "      <td>NYSE AMEX COMPOSITE INDEX</td>\n",
       "      <td>USD</td>\n",
       "      <td>New York Stock Exchange</td>\n",
       "      <td>INDEX</td>\n",
       "    </tr>\n",
       "    <tr>\n",
       "      <th>59</th>\n",
       "      <td>62cc22fa4c9eba2a564fed07</td>\n",
       "      <td>MID</td>\n",
       "      <td>S&amp;P MID CAP 400 INDEX</td>\n",
       "      <td>USD</td>\n",
       "      <td>New York Stock Exchange</td>\n",
       "      <td>INDEX</td>\n",
       "    </tr>\n",
       "    <tr>\n",
       "      <th>60</th>\n",
       "      <td>62cc22fa4c9eba2a564fed08</td>\n",
       "      <td>NYA</td>\n",
       "      <td>NYSE COMPOSITE (DJ)</td>\n",
       "      <td>USD</td>\n",
       "      <td>New York Stock Exchange</td>\n",
       "      <td>INDEX</td>\n",
       "    </tr>\n",
       "    <tr>\n",
       "      <th>61</th>\n",
       "      <td>62cc22fa4c9eba2a564fed09</td>\n",
       "      <td>X60.TS</td>\n",
       "      <td>S&amp;P/TSX 60 Index</td>\n",
       "      <td>CAD</td>\n",
       "      <td>Toronto</td>\n",
       "      <td>INDEX</td>\n",
       "    </tr>\n",
       "    <tr>\n",
       "      <th>62</th>\n",
       "      <td>62cc22fa4c9eba2a564fed0a</td>\n",
       "      <td>U100.IS</td>\n",
       "      <td>BIST 100</td>\n",
       "      <td>TRY</td>\n",
       "      <td>Istanbul</td>\n",
       "      <td>INDEX</td>\n",
       "    </tr>\n",
       "  </tbody>\n",
       "</table>\n",
       "<p>63 rows × 6 columns</p>\n",
       "</div>"
      ],
      "text/plain": [
       "                         _id   symbol                       name currency  \\\n",
       "0   62cc22fa4c9eba2a564feccc      TYX    Treasury Yield 30 Years      USD   \n",
       "1   62cc22fa4c9eba2a564feccd      FVX     Treasury Yield 5 Years      USD   \n",
       "2   62cc22fa4c9eba2a564fecce      TNX    Treasury Yield 10 Years      USD   \n",
       "3   62cc22fa4c9eba2a564feccf   SPGSCI             S&P GSCI Index      USD   \n",
       "4   62cc22fa4c9eba2a564fecd0      STI                  STI Index      SGD   \n",
       "..                       ...      ...                        ...      ...   \n",
       "58  62cc22fa4c9eba2a564fed06      XAX  NYSE AMEX COMPOSITE INDEX      USD   \n",
       "59  62cc22fa4c9eba2a564fed07      MID      S&P MID CAP 400 INDEX      USD   \n",
       "60  62cc22fa4c9eba2a564fed08      NYA        NYSE COMPOSITE (DJ)      USD   \n",
       "61  62cc22fa4c9eba2a564fed09   X60.TS           S&P/TSX 60 Index      CAD   \n",
       "62  62cc22fa4c9eba2a564fed0a  U100.IS                   BIST 100      TRY   \n",
       "\n",
       "              stockExchange exchangeShortName  \n",
       "0                     NYBOT             INDEX  \n",
       "1                     NYBOT             INDEX  \n",
       "2                     NYBOT             INDEX  \n",
       "3                       SNP             INDEX  \n",
       "4                       SES             INDEX  \n",
       "..                      ...               ...  \n",
       "58  New York Stock Exchange             INDEX  \n",
       "59  New York Stock Exchange             INDEX  \n",
       "60  New York Stock Exchange             INDEX  \n",
       "61                  Toronto             INDEX  \n",
       "62                 Istanbul             INDEX  \n",
       "\n",
       "[63 rows x 6 columns]"
      ]
     },
     "execution_count": 47,
     "metadata": {},
     "output_type": "execute_result"
    }
   ],
   "source": [
    "mongo_stock.get_df(mongo_stock.db.idx_all)"
   ]
  },
  {
   "cell_type": "code",
   "execution_count": 48,
   "metadata": {},
   "outputs": [
    {
     "data": {
      "text/html": [
       "<div>\n",
       "<style scoped>\n",
       "    .dataframe tbody tr th:only-of-type {\n",
       "        vertical-align: middle;\n",
       "    }\n",
       "\n",
       "    .dataframe tbody tr th {\n",
       "        vertical-align: top;\n",
       "    }\n",
       "\n",
       "    .dataframe thead th {\n",
       "        text-align: right;\n",
       "    }\n",
       "</style>\n",
       "<table border=\"1\" class=\"dataframe\">\n",
       "  <thead>\n",
       "    <tr style=\"text-align: right;\">\n",
       "      <th></th>\n",
       "      <th>_id</th>\n",
       "      <th>Symbol</th>\n",
       "      <th>Price</th>\n",
       "      <th>Beta</th>\n",
       "      <th>VolAvg</th>\n",
       "      <th>MktCap</th>\n",
       "      <th>LastDiv</th>\n",
       "      <th>Range</th>\n",
       "      <th>Changes</th>\n",
       "      <th>companyName</th>\n",
       "      <th>...</th>\n",
       "      <th>zip</th>\n",
       "      <th>DCF_diff</th>\n",
       "      <th>DCF</th>\n",
       "      <th>image</th>\n",
       "      <th>ipoDate</th>\n",
       "      <th>defaultImage</th>\n",
       "      <th>isEtf</th>\n",
       "      <th>isActivelyTrading</th>\n",
       "      <th>isFund</th>\n",
       "      <th>isAdr</th>\n",
       "    </tr>\n",
       "  </thead>\n",
       "  <tbody>\n",
       "    <tr>\n",
       "      <th>0</th>\n",
       "      <td>629c9ee60206e9ef45214eca</td>\n",
       "      <td>MSFT</td>\n",
       "      <td>270.02</td>\n",
       "      <td>0.93616</td>\n",
       "      <td>33000374</td>\n",
       "      <td>2.019488e+12</td>\n",
       "      <td>2.42</td>\n",
       "      <td>246.44-349.67</td>\n",
       "      <td>-4.56</td>\n",
       "      <td>Microsoft Corporation</td>\n",
       "      <td>...</td>\n",
       "      <td>98052-6399</td>\n",
       "      <td>1.54418</td>\n",
       "      <td>271.564</td>\n",
       "      <td>https://financialmodelingprep.com/image-stock/...</td>\n",
       "      <td>1986-03-13</td>\n",
       "      <td>False</td>\n",
       "      <td>False</td>\n",
       "      <td>True</td>\n",
       "      <td>False</td>\n",
       "      <td>False</td>\n",
       "    </tr>\n",
       "  </tbody>\n",
       "</table>\n",
       "<p>1 rows × 37 columns</p>\n",
       "</div>"
      ],
      "text/plain": [
       "                        _id Symbol   Price     Beta    VolAvg        MktCap  \\\n",
       "0  629c9ee60206e9ef45214eca   MSFT  270.02  0.93616  33000374  2.019488e+12   \n",
       "\n",
       "   LastDiv          Range  Changes            companyName  ...         zip  \\\n",
       "0     2.42  246.44-349.67    -4.56  Microsoft Corporation  ...  98052-6399   \n",
       "\n",
       "   DCF_diff      DCF                                              image  \\\n",
       "0   1.54418  271.564  https://financialmodelingprep.com/image-stock/...   \n",
       "\n",
       "      ipoDate defaultImage  isEtf isActivelyTrading isFund  isAdr  \n",
       "0  1986-03-13        False  False              True  False  False  \n",
       "\n",
       "[1 rows x 37 columns]"
      ]
     },
     "execution_count": 48,
     "metadata": {},
     "output_type": "execute_result"
    }
   ],
   "source": [
    "mongo_stock.get_df(mongo_stock.db.profile, Symbol='MSFT')"
   ]
  },
  {
   "cell_type": "code",
   "execution_count": 49,
   "metadata": {},
   "outputs": [],
   "source": [
    "df_idx_all = mongo_stock.get_df(mongo_stock.db.idx_all)\n",
    "df_idx_price = mongo_stock.get_df(mongo_stock.db.idx_price)\n",
    "df_idx_price = df_idx_price.merge(df_idx_all[['symbol', 'name']])\n",
    "idx_sym = mongo_stock.get_unique(mongo_stock.db.idx_price, 'symbol')\n",
    "# idx_sym = mongo_stock.db.idx_price.distinct('symbol')\n",
    "df_idx_info = df_idx_all.loc[df_idx_all['symbol'].isin(idx_sym), ['symbol', 'name']]\n",
    "fig = px.line(df_idx_price, x='datetime', y = 'adjClose', color='name')\n"
   ]
  },
  {
   "cell_type": "code",
   "execution_count": null,
   "metadata": {},
   "outputs": [],
   "source": []
  }
 ],
 "metadata": {
  "kernelspec": {
   "display_name": "Python 3.9.12 (conda)",
   "language": "python",
   "name": "python3"
  },
  "language_info": {
   "codemirror_mode": {
    "name": "ipython",
    "version": 3
   },
   "file_extension": ".py",
   "mimetype": "text/x-python",
   "name": "python",
   "nbconvert_exporter": "python",
   "pygments_lexer": "ipython3",
   "version": "3.9.12"
  },
  "orig_nbformat": 4,
  "vscode": {
   "interpreter": {
    "hash": "58c223fc00643603dab7ec4558f63a90e8963ab29c712c6f4f790c02391349f1"
   }
  }
 },
 "nbformat": 4,
 "nbformat_minor": 2
}
