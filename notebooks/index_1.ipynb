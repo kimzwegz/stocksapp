{
 "cells": [
  {
   "cell_type": "code",
   "execution_count": 2,
   "metadata": {},
   "outputs": [],
   "source": [
    "from dash import Dash\n",
    "import dash_core_components as dcc\n",
    "import dash_html_components as html\n",
    "import dash_bootstrap_components as dbc\n",
    "import plotly.express as px\n",
    "import pandas as pd\n",
    "from dash.dependencies import Input, Output\n",
    "import plotly.express as px\n",
    "from datetime import datetime, date\n"
   ]
  },
  {
   "cell_type": "code",
   "execution_count": 3,
   "metadata": {},
   "outputs": [
    {
     "name": "stdout",
     "output_type": "stream",
     "text": [
      "['/Users/karimkhalil/Coding/development/stocksapp/notebooks', '/Users/karimkhalil/Coding/development/stocksapp/stocksappenv/lib/python39.zip', '/Users/karimkhalil/Coding/development/stocksapp/stocksappenv/lib/python3.9', '/Users/karimkhalil/Coding/development/stocksapp/stocksappenv/lib/python3.9/lib-dynload', '', '/Users/karimkhalil/Coding/development/stocksapp/stocksappenv/lib/python3.9/site-packages', '/Users/karimkhalil/Coding/development', '/Users/karimkhalil/Coding/development/stocksapp']\n"
     ]
    }
   ],
   "source": [
    "from os import pardir, path, getcwd, path\n",
    "import sys\n",
    "\n",
    "# mod_path = path.abspath(path.join(pardir))\n",
    "pack_global = r'/Users/karimkhalil/Coding/development'\n",
    "pack_project = os.path.abspath(path.join(getcwd(), pardir))\n",
    "\n",
    "dirs = [pack_global,pack_project]\n",
    "\n",
    "\n",
    "for i in dirs:\n",
    "    # print(i)\n",
    "    if i not in sys.path:\n",
    "        sys.path.append(i)\n",
    "\n",
    "print(sys.path)"
   ]
  },
  {
   "cell_type": "code",
   "execution_count": 4,
   "metadata": {},
   "outputs": [
    {
     "name": "stdout",
     "output_type": "stream",
     "text": [
      "['admin', 'config', 'db_fin', 'local']\n",
      "mongo imported from mypackages.db_loader.mongo\n",
      "['/Users/karimkhalil/Coding/development/stocksapp/notebooks', '/Users/karimkhalil/Coding/development/stocksapp/stocksappenv/lib/python39.zip', '/Users/karimkhalil/Coding/development/stocksapp/stocksappenv/lib/python3.9', '/Users/karimkhalil/Coding/development/stocksapp/stocksappenv/lib/python3.9/lib-dynload', '', '/Users/karimkhalil/Coding/development/stocksapp/stocksappenv/lib/python3.9/site-packages', '/Users/karimkhalil/Coding/development', '/Users/karimkhalil/Coding/development/stocksapp']\n",
      "project package imported\n"
     ]
    }
   ],
   "source": [
    "# from mypackages.db_loader.mongo import DB_mongo\n",
    "\n",
    "from mypackages import DB_mongo\n",
    "from project_package.df_processing import *\n",
    "from pymongo import MongoClient, ASCENDING , DESCENDING\n",
    "import pandas as pd"
   ]
  },
  {
   "cell_type": "code",
   "execution_count": 5,
   "metadata": {},
   "outputs": [
    {
     "data": {
      "text/plain": [
       "Collection(Database(MongoClient(host=['localhost:27017'], document_class=dict, tz_aware=False, connect=True), 'db_fin'), 'tables')"
      ]
     },
     "execution_count": 5,
     "metadata": {},
     "output_type": "execute_result"
    }
   ],
   "source": [
    "stock = DB_mongo._CLIENT.db_fin\n",
    "mongo_stock = DB_mongo(stock)\n",
    "mongo_stock.db.tables"
   ]
  },
  {
   "cell_type": "code",
   "execution_count": 6,
   "metadata": {},
   "outputs": [
    {
     "name": "stdout",
     "output_type": "stream",
     "text": [
      "['cf', 'prices_bckup', 'company_today', 'mrktcap', 'company_wfinancials', 'prices_n_fin', 'bs', 'fx', 'profile', 'idx_price', 'prices', 'idx_all', 'pnl']\n"
     ]
    }
   ],
   "source": [
    "tables = mongo_stock.all_tables\n",
    "print(tables)"
   ]
  },
  {
   "cell_type": "code",
   "execution_count": 7,
   "metadata": {},
   "outputs": [
    {
     "data": {
      "text/html": [
       "<div>\n",
       "<style scoped>\n",
       "    .dataframe tbody tr th:only-of-type {\n",
       "        vertical-align: middle;\n",
       "    }\n",
       "\n",
       "    .dataframe tbody tr th {\n",
       "        vertical-align: top;\n",
       "    }\n",
       "\n",
       "    .dataframe thead th {\n",
       "        text-align: right;\n",
       "    }\n",
       "</style>\n",
       "<table border=\"1\" class=\"dataframe\">\n",
       "  <thead>\n",
       "    <tr style=\"text-align: right;\">\n",
       "      <th></th>\n",
       "      <th>_id</th>\n",
       "      <th>symbol</th>\n",
       "      <th>name</th>\n",
       "      <th>currency</th>\n",
       "      <th>stockExchange</th>\n",
       "      <th>exchangeShortName</th>\n",
       "    </tr>\n",
       "  </thead>\n",
       "  <tbody>\n",
       "    <tr>\n",
       "      <th>0</th>\n",
       "      <td>62cc22fa4c9eba2a564feccc</td>\n",
       "      <td>TYX</td>\n",
       "      <td>Treasury Yield 30 Years</td>\n",
       "      <td>USD</td>\n",
       "      <td>NYBOT</td>\n",
       "      <td>INDEX</td>\n",
       "    </tr>\n",
       "    <tr>\n",
       "      <th>1</th>\n",
       "      <td>62cc22fa4c9eba2a564feccd</td>\n",
       "      <td>FVX</td>\n",
       "      <td>Treasury Yield 5 Years</td>\n",
       "      <td>USD</td>\n",
       "      <td>NYBOT</td>\n",
       "      <td>INDEX</td>\n",
       "    </tr>\n",
       "    <tr>\n",
       "      <th>2</th>\n",
       "      <td>62cc22fa4c9eba2a564fecce</td>\n",
       "      <td>TNX</td>\n",
       "      <td>Treasury Yield 10 Years</td>\n",
       "      <td>USD</td>\n",
       "      <td>NYBOT</td>\n",
       "      <td>INDEX</td>\n",
       "    </tr>\n",
       "    <tr>\n",
       "      <th>3</th>\n",
       "      <td>62cc22fa4c9eba2a564feccf</td>\n",
       "      <td>SPGSCI</td>\n",
       "      <td>S&amp;P GSCI Index</td>\n",
       "      <td>USD</td>\n",
       "      <td>SNP</td>\n",
       "      <td>INDEX</td>\n",
       "    </tr>\n",
       "    <tr>\n",
       "      <th>4</th>\n",
       "      <td>62cc22fa4c9eba2a564fecd0</td>\n",
       "      <td>STI</td>\n",
       "      <td>STI Index</td>\n",
       "      <td>SGD</td>\n",
       "      <td>SES</td>\n",
       "      <td>INDEX</td>\n",
       "    </tr>\n",
       "    <tr>\n",
       "      <th>...</th>\n",
       "      <td>...</td>\n",
       "      <td>...</td>\n",
       "      <td>...</td>\n",
       "      <td>...</td>\n",
       "      <td>...</td>\n",
       "      <td>...</td>\n",
       "    </tr>\n",
       "    <tr>\n",
       "      <th>58</th>\n",
       "      <td>62cc22fa4c9eba2a564fed06</td>\n",
       "      <td>XAX</td>\n",
       "      <td>NYSE AMEX COMPOSITE INDEX</td>\n",
       "      <td>USD</td>\n",
       "      <td>New York Stock Exchange</td>\n",
       "      <td>INDEX</td>\n",
       "    </tr>\n",
       "    <tr>\n",
       "      <th>59</th>\n",
       "      <td>62cc22fa4c9eba2a564fed07</td>\n",
       "      <td>MID</td>\n",
       "      <td>S&amp;P MID CAP 400 INDEX</td>\n",
       "      <td>USD</td>\n",
       "      <td>New York Stock Exchange</td>\n",
       "      <td>INDEX</td>\n",
       "    </tr>\n",
       "    <tr>\n",
       "      <th>60</th>\n",
       "      <td>62cc22fa4c9eba2a564fed08</td>\n",
       "      <td>NYA</td>\n",
       "      <td>NYSE COMPOSITE (DJ)</td>\n",
       "      <td>USD</td>\n",
       "      <td>New York Stock Exchange</td>\n",
       "      <td>INDEX</td>\n",
       "    </tr>\n",
       "    <tr>\n",
       "      <th>61</th>\n",
       "      <td>62cc22fa4c9eba2a564fed09</td>\n",
       "      <td>X60.TS</td>\n",
       "      <td>S&amp;P/TSX 60 Index</td>\n",
       "      <td>CAD</td>\n",
       "      <td>Toronto</td>\n",
       "      <td>INDEX</td>\n",
       "    </tr>\n",
       "    <tr>\n",
       "      <th>62</th>\n",
       "      <td>62cc22fa4c9eba2a564fed0a</td>\n",
       "      <td>U100.IS</td>\n",
       "      <td>BIST 100</td>\n",
       "      <td>TRY</td>\n",
       "      <td>Istanbul</td>\n",
       "      <td>INDEX</td>\n",
       "    </tr>\n",
       "  </tbody>\n",
       "</table>\n",
       "<p>63 rows × 6 columns</p>\n",
       "</div>"
      ],
      "text/plain": [
       "                         _id   symbol                       name currency  \\\n",
       "0   62cc22fa4c9eba2a564feccc      TYX    Treasury Yield 30 Years      USD   \n",
       "1   62cc22fa4c9eba2a564feccd      FVX     Treasury Yield 5 Years      USD   \n",
       "2   62cc22fa4c9eba2a564fecce      TNX    Treasury Yield 10 Years      USD   \n",
       "3   62cc22fa4c9eba2a564feccf   SPGSCI             S&P GSCI Index      USD   \n",
       "4   62cc22fa4c9eba2a564fecd0      STI                  STI Index      SGD   \n",
       "..                       ...      ...                        ...      ...   \n",
       "58  62cc22fa4c9eba2a564fed06      XAX  NYSE AMEX COMPOSITE INDEX      USD   \n",
       "59  62cc22fa4c9eba2a564fed07      MID      S&P MID CAP 400 INDEX      USD   \n",
       "60  62cc22fa4c9eba2a564fed08      NYA        NYSE COMPOSITE (DJ)      USD   \n",
       "61  62cc22fa4c9eba2a564fed09   X60.TS           S&P/TSX 60 Index      CAD   \n",
       "62  62cc22fa4c9eba2a564fed0a  U100.IS                   BIST 100      TRY   \n",
       "\n",
       "              stockExchange exchangeShortName  \n",
       "0                     NYBOT             INDEX  \n",
       "1                     NYBOT             INDEX  \n",
       "2                     NYBOT             INDEX  \n",
       "3                       SNP             INDEX  \n",
       "4                       SES             INDEX  \n",
       "..                      ...               ...  \n",
       "58  New York Stock Exchange             INDEX  \n",
       "59  New York Stock Exchange             INDEX  \n",
       "60  New York Stock Exchange             INDEX  \n",
       "61                  Toronto             INDEX  \n",
       "62                 Istanbul             INDEX  \n",
       "\n",
       "[63 rows x 6 columns]"
      ]
     },
     "execution_count": 7,
     "metadata": {},
     "output_type": "execute_result"
    }
   ],
   "source": [
    "mongo_stock.get_df(mongo_stock.db.idx_all)"
   ]
  },
  {
   "cell_type": "code",
   "execution_count": 8,
   "metadata": {},
   "outputs": [
    {
     "data": {
      "text/html": [
       "<div>\n",
       "<style scoped>\n",
       "    .dataframe tbody tr th:only-of-type {\n",
       "        vertical-align: middle;\n",
       "    }\n",
       "\n",
       "    .dataframe tbody tr th {\n",
       "        vertical-align: top;\n",
       "    }\n",
       "\n",
       "    .dataframe thead th {\n",
       "        text-align: right;\n",
       "    }\n",
       "</style>\n",
       "<table border=\"1\" class=\"dataframe\">\n",
       "  <thead>\n",
       "    <tr style=\"text-align: right;\">\n",
       "      <th></th>\n",
       "      <th>_id</th>\n",
       "      <th>Symbol</th>\n",
       "      <th>Price</th>\n",
       "      <th>Beta</th>\n",
       "      <th>VolAvg</th>\n",
       "      <th>MktCap</th>\n",
       "      <th>LastDiv</th>\n",
       "      <th>Range</th>\n",
       "      <th>Changes</th>\n",
       "      <th>companyName</th>\n",
       "      <th>...</th>\n",
       "      <th>zip</th>\n",
       "      <th>DCF_diff</th>\n",
       "      <th>DCF</th>\n",
       "      <th>image</th>\n",
       "      <th>ipoDate</th>\n",
       "      <th>defaultImage</th>\n",
       "      <th>isEtf</th>\n",
       "      <th>isActivelyTrading</th>\n",
       "      <th>isFund</th>\n",
       "      <th>isAdr</th>\n",
       "    </tr>\n",
       "  </thead>\n",
       "  <tbody>\n",
       "    <tr>\n",
       "      <th>0</th>\n",
       "      <td>629c9ee60206e9ef45214eca</td>\n",
       "      <td>MSFT</td>\n",
       "      <td>270.02</td>\n",
       "      <td>0.93616</td>\n",
       "      <td>33000374</td>\n",
       "      <td>2.019488e+12</td>\n",
       "      <td>2.42</td>\n",
       "      <td>246.44-349.67</td>\n",
       "      <td>-4.56</td>\n",
       "      <td>Microsoft Corporation</td>\n",
       "      <td>...</td>\n",
       "      <td>98052-6399</td>\n",
       "      <td>1.54418</td>\n",
       "      <td>271.564</td>\n",
       "      <td>https://financialmodelingprep.com/image-stock/...</td>\n",
       "      <td>1986-03-13</td>\n",
       "      <td>False</td>\n",
       "      <td>False</td>\n",
       "      <td>True</td>\n",
       "      <td>False</td>\n",
       "      <td>False</td>\n",
       "    </tr>\n",
       "  </tbody>\n",
       "</table>\n",
       "<p>1 rows × 37 columns</p>\n",
       "</div>"
      ],
      "text/plain": [
       "                        _id Symbol   Price     Beta    VolAvg        MktCap  \\\n",
       "0  629c9ee60206e9ef45214eca   MSFT  270.02  0.93616  33000374  2.019488e+12   \n",
       "\n",
       "   LastDiv          Range  Changes            companyName  ...         zip  \\\n",
       "0     2.42  246.44-349.67    -4.56  Microsoft Corporation  ...  98052-6399   \n",
       "\n",
       "   DCF_diff      DCF                                              image  \\\n",
       "0   1.54418  271.564  https://financialmodelingprep.com/image-stock/...   \n",
       "\n",
       "      ipoDate defaultImage  isEtf isActivelyTrading isFund  isAdr  \n",
       "0  1986-03-13        False  False              True  False  False  \n",
       "\n",
       "[1 rows x 37 columns]"
      ]
     },
     "execution_count": 8,
     "metadata": {},
     "output_type": "execute_result"
    }
   ],
   "source": [
    "mongo_stock.get_df(mongo_stock.db.profile, Symbol='MSFT')"
   ]
  },
  {
   "cell_type": "code",
   "execution_count": 18,
   "metadata": {},
   "outputs": [],
   "source": [
    "df_idx_all = mongo_stock.get_df(mongo_stock.db.idx_all)\n",
    "df_idx_price = mongo_stock.get_df(mongo_stock.db.idx_price)\n",
    "df_idx_price = df_idx_price.merge(df_idx_all[['symbol', 'name']])\n",
    "idx_sym = mongo_stock.get_unique(mongo_stock.db.idx_price, 'symbol')\n",
    "# idx_sym = mongo_stock.db.idx_price.distinct('symbol')\n",
    "df_idx = df_idx_all.loc[df_idx_all['symbol'].isin(idx_sym), ['symbol', 'name' , 'currency', 'stockExchange']]\n",
    "df_idx[['symbol', 'name']].to_dict('records')\n",
    "market_idx_dropdown = [{'label': i['name'], 'value': i['symbol']} for i in df_idx[['symbol', 'name']].to_dict('records') ]    \n",
    "df_idx_info = df_idx_all.loc[df_idx_all['symbol'].isin(idx_sym), ['symbol', 'name']]\n",
    "fig = px.line(df_idx_price, x='datetime', y = 'adjClose', color='name')"
   ]
  },
  {
   "cell_type": "code",
   "execution_count": 24,
   "metadata": {},
   "outputs": [],
   "source": [
    "df_fig = df_idx_price\n",
    "date_min_str = pd.to_datetime(df_fig['datetime'].idxmin()).strftime(\"%m/%d/%Y\")\n",
    "date_max_str = pd.to_datetime(df_fig['datetime'].idxmax()).strftime(\"%m/%d/%Y\")\n",
    "\n",
    "date_min = pd.to_datetime(df_fig['datetime'].idxmin()).strftime(\"%m/%d/%Y\")\n",
    "date_max = pd.to_datetime(df_fig['datetime'].idxmax()).strftime(\"%m/%d/%Y\")"
   ]
  },
  {
   "cell_type": "code",
   "execution_count": 46,
   "metadata": {},
   "outputs": [
    {
     "data": {
      "text/plain": [
       "0         2022-06-17\n",
       "1         2022-06-16\n",
       "2         2022-06-15\n",
       "3         2022-06-14\n",
       "4         2022-06-13\n",
       "             ...    \n",
       "402681    1966-01-06\n",
       "402682    1966-01-05\n",
       "402683    1966-01-04\n",
       "402684    1966-01-03\n",
       "402685    1965-12-31\n",
       "Name: date, Length: 402686, dtype: object"
      ]
     },
     "execution_count": 46,
     "metadata": {},
     "output_type": "execute_result"
    }
   ],
   "source": [
    "df_idx_price.date"
   ]
  },
  {
   "cell_type": "code",
   "execution_count": 49,
   "metadata": {},
   "outputs": [
    {
     "ename": "AttributeError",
     "evalue": "'Series' object has no attribute 'strftime'",
     "output_type": "error",
     "traceback": [
      "\u001b[0;31m---------------------------------------------------------------------------\u001b[0m",
      "\u001b[0;31mAttributeError\u001b[0m                            Traceback (most recent call last)",
      "\u001b[1;32m/Users/karimkhalil/Coding/development/stocksapp/notebooks/index_1.ipynb Cell 11\u001b[0m in \u001b[0;36m<cell line: 1>\u001b[0;34m()\u001b[0m\n\u001b[0;32m----> <a href='vscode-notebook-cell:/Users/karimkhalil/Coding/development/stocksapp/notebooks/index_1.ipynb#X23sZmlsZQ%3D%3D?line=0'>1</a>\u001b[0m df_idx_price[\u001b[39m'\u001b[39;49m\u001b[39mdatetime\u001b[39;49m\u001b[39m'\u001b[39;49m]\u001b[39m.\u001b[39;49mstrftime(\u001b[39m\"\u001b[39m\u001b[39m%\u001b[39m\u001b[39mm-\u001b[39m\u001b[39m%d\u001b[39;00m\u001b[39m-\u001b[39m\u001b[39m%\u001b[39m\u001b[39mY\u001b[39m\u001b[39m\"\u001b[39m)\n",
      "File \u001b[0;32m~/Coding/development/stocksapp/stocksappenv/lib/python3.9/site-packages/pandas/core/generic.py:5487\u001b[0m, in \u001b[0;36mNDFrame.__getattr__\u001b[0;34m(self, name)\u001b[0m\n\u001b[1;32m   5480\u001b[0m \u001b[39mif\u001b[39;00m (\n\u001b[1;32m   5481\u001b[0m     name \u001b[39mnot\u001b[39;00m \u001b[39min\u001b[39;00m \u001b[39mself\u001b[39m\u001b[39m.\u001b[39m_internal_names_set\n\u001b[1;32m   5482\u001b[0m     \u001b[39mand\u001b[39;00m name \u001b[39mnot\u001b[39;00m \u001b[39min\u001b[39;00m \u001b[39mself\u001b[39m\u001b[39m.\u001b[39m_metadata\n\u001b[1;32m   5483\u001b[0m     \u001b[39mand\u001b[39;00m name \u001b[39mnot\u001b[39;00m \u001b[39min\u001b[39;00m \u001b[39mself\u001b[39m\u001b[39m.\u001b[39m_accessors\n\u001b[1;32m   5484\u001b[0m     \u001b[39mand\u001b[39;00m \u001b[39mself\u001b[39m\u001b[39m.\u001b[39m_info_axis\u001b[39m.\u001b[39m_can_hold_identifiers_and_holds_name(name)\n\u001b[1;32m   5485\u001b[0m ):\n\u001b[1;32m   5486\u001b[0m     \u001b[39mreturn\u001b[39;00m \u001b[39mself\u001b[39m[name]\n\u001b[0;32m-> 5487\u001b[0m \u001b[39mreturn\u001b[39;00m \u001b[39mobject\u001b[39;49m\u001b[39m.\u001b[39;49m\u001b[39m__getattribute__\u001b[39;49m(\u001b[39mself\u001b[39;49m, name)\n",
      "\u001b[0;31mAttributeError\u001b[0m: 'Series' object has no attribute 'strftime'"
     ]
    }
   ],
   "source": [
    "df_idx_price['datetime'].dt.strftime(\"%m-%d-%Y\")"
   ]
  },
  {
   "cell_type": "code",
   "execution_count": 53,
   "metadata": {},
   "outputs": [
    {
     "name": "stdout",
     "output_type": "stream",
     "text": [
      "<class 'pandas.core.frame.DataFrame'>\n",
      "Int64Index: 402686 entries, 0 to 402685\n",
      "Data columns (total 20 columns):\n",
      " #   Column            Non-Null Count   Dtype         \n",
      "---  ------            --------------   -----         \n",
      " 0   _id               402686 non-null  object        \n",
      " 1   index             402686 non-null  int64         \n",
      " 2   date              402686 non-null  object        \n",
      " 3   open              402686 non-null  float64       \n",
      " 4   high              402686 non-null  float64       \n",
      " 5   low               402686 non-null  float64       \n",
      " 6   close             402686 non-null  float64       \n",
      " 7   adjClose          402686 non-null  float64       \n",
      " 8   change            402686 non-null  float64       \n",
      " 9   changePercent     397152 non-null  float64       \n",
      " 10  label             402686 non-null  object        \n",
      " 11  changeOverTime    397152 non-null  float64       \n",
      " 12  symbol            402686 non-null  object        \n",
      " 13  volume            189687 non-null  float64       \n",
      " 14  unadjustedVolume  189687 non-null  float64       \n",
      " 15  vwap              187853 non-null  float64       \n",
      " 16  datetime          402686 non-null  datetime64[ns]\n",
      " 17  month             402686 non-null  int64         \n",
      " 18  year              402686 non-null  int64         \n",
      " 19  name              402686 non-null  object        \n",
      "dtypes: datetime64[ns](1), float64(11), int64(3), object(5)\n",
      "memory usage: 64.5+ MB\n"
     ]
    }
   ],
   "source": [
    "df_idx_price.info()"
   ]
  },
  {
   "cell_type": "code",
   "execution_count": 52,
   "metadata": {},
   "outputs": [
    {
     "ename": "AttributeError",
     "evalue": "'str' object has no attribute 'isoformat'",
     "output_type": "error",
     "traceback": [
      "\u001b[0;31m---------------------------------------------------------------------------\u001b[0m",
      "\u001b[0;31mAttributeError\u001b[0m                            Traceback (most recent call last)",
      "\u001b[1;32m/Users/karimkhalil/Coding/development/stocksapp/notebooks/index_1.ipynb Cell 12\u001b[0m in \u001b[0;36m<cell line: 1>\u001b[0;34m()\u001b[0m\n\u001b[0;32m----> <a href='vscode-notebook-cell:/Users/karimkhalil/Coding/development/stocksapp/notebooks/index_1.ipynb#X26sZmlsZQ%3D%3D?line=0'>1</a>\u001b[0m df_idx_price[\u001b[39m'\u001b[39;49m\u001b[39mdate\u001b[39;49m\u001b[39m'\u001b[39;49m]\u001b[39m.\u001b[39;49mapply(\u001b[39mlambda\u001b[39;49;00m x: x\u001b[39m.\u001b[39;49misoformat())\n",
      "File \u001b[0;32m~/Coding/development/stocksapp/stocksappenv/lib/python3.9/site-packages/pandas/core/series.py:4357\u001b[0m, in \u001b[0;36mSeries.apply\u001b[0;34m(self, func, convert_dtype, args, **kwargs)\u001b[0m\n\u001b[1;32m   4247\u001b[0m \u001b[39mdef\u001b[39;00m \u001b[39mapply\u001b[39m(\n\u001b[1;32m   4248\u001b[0m     \u001b[39mself\u001b[39m,\n\u001b[1;32m   4249\u001b[0m     func: AggFuncType,\n\u001b[0;32m   (...)\u001b[0m\n\u001b[1;32m   4252\u001b[0m     \u001b[39m*\u001b[39m\u001b[39m*\u001b[39mkwargs,\n\u001b[1;32m   4253\u001b[0m ) \u001b[39m-\u001b[39m\u001b[39m>\u001b[39m FrameOrSeriesUnion:\n\u001b[1;32m   4254\u001b[0m     \u001b[39m\"\"\"\u001b[39;00m\n\u001b[1;32m   4255\u001b[0m \u001b[39m    Invoke function on values of Series.\u001b[39;00m\n\u001b[1;32m   4256\u001b[0m \n\u001b[0;32m   (...)\u001b[0m\n\u001b[1;32m   4355\u001b[0m \u001b[39m    dtype: float64\u001b[39;00m\n\u001b[1;32m   4356\u001b[0m \u001b[39m    \"\"\"\u001b[39;00m\n\u001b[0;32m-> 4357\u001b[0m     \u001b[39mreturn\u001b[39;00m SeriesApply(\u001b[39mself\u001b[39;49m, func, convert_dtype, args, kwargs)\u001b[39m.\u001b[39;49mapply()\n",
      "File \u001b[0;32m~/Coding/development/stocksapp/stocksappenv/lib/python3.9/site-packages/pandas/core/apply.py:1043\u001b[0m, in \u001b[0;36mSeriesApply.apply\u001b[0;34m(self)\u001b[0m\n\u001b[1;32m   1039\u001b[0m \u001b[39mif\u001b[39;00m \u001b[39misinstance\u001b[39m(\u001b[39mself\u001b[39m\u001b[39m.\u001b[39mf, \u001b[39mstr\u001b[39m):\n\u001b[1;32m   1040\u001b[0m     \u001b[39m# if we are a string, try to dispatch\u001b[39;00m\n\u001b[1;32m   1041\u001b[0m     \u001b[39mreturn\u001b[39;00m \u001b[39mself\u001b[39m\u001b[39m.\u001b[39mapply_str()\n\u001b[0;32m-> 1043\u001b[0m \u001b[39mreturn\u001b[39;00m \u001b[39mself\u001b[39;49m\u001b[39m.\u001b[39;49mapply_standard()\n",
      "File \u001b[0;32m~/Coding/development/stocksapp/stocksappenv/lib/python3.9/site-packages/pandas/core/apply.py:1098\u001b[0m, in \u001b[0;36mSeriesApply.apply_standard\u001b[0;34m(self)\u001b[0m\n\u001b[1;32m   1092\u001b[0m         values \u001b[39m=\u001b[39m obj\u001b[39m.\u001b[39mastype(\u001b[39mobject\u001b[39m)\u001b[39m.\u001b[39m_values\n\u001b[1;32m   1093\u001b[0m         \u001b[39m# error: Argument 2 to \"map_infer\" has incompatible type\u001b[39;00m\n\u001b[1;32m   1094\u001b[0m         \u001b[39m# \"Union[Callable[..., Any], str, List[Union[Callable[..., Any], str]],\u001b[39;00m\n\u001b[1;32m   1095\u001b[0m         \u001b[39m# Dict[Hashable, Union[Union[Callable[..., Any], str],\u001b[39;00m\n\u001b[1;32m   1096\u001b[0m         \u001b[39m# List[Union[Callable[..., Any], str]]]]]\"; expected\u001b[39;00m\n\u001b[1;32m   1097\u001b[0m         \u001b[39m# \"Callable[[Any], Any]\"\u001b[39;00m\n\u001b[0;32m-> 1098\u001b[0m         mapped \u001b[39m=\u001b[39m lib\u001b[39m.\u001b[39;49mmap_infer(\n\u001b[1;32m   1099\u001b[0m             values,\n\u001b[1;32m   1100\u001b[0m             f,  \u001b[39m# type: ignore[arg-type]\u001b[39;49;00m\n\u001b[1;32m   1101\u001b[0m             convert\u001b[39m=\u001b[39;49m\u001b[39mself\u001b[39;49m\u001b[39m.\u001b[39;49mconvert_dtype,\n\u001b[1;32m   1102\u001b[0m         )\n\u001b[1;32m   1104\u001b[0m \u001b[39mif\u001b[39;00m \u001b[39mlen\u001b[39m(mapped) \u001b[39mand\u001b[39;00m \u001b[39misinstance\u001b[39m(mapped[\u001b[39m0\u001b[39m], ABCSeries):\n\u001b[1;32m   1105\u001b[0m     \u001b[39m# GH 25959 use pd.array instead of tolist\u001b[39;00m\n\u001b[1;32m   1106\u001b[0m     \u001b[39m# so extension arrays can be used\u001b[39;00m\n\u001b[1;32m   1107\u001b[0m     \u001b[39mreturn\u001b[39;00m obj\u001b[39m.\u001b[39m_constructor_expanddim(pd_array(mapped), index\u001b[39m=\u001b[39mobj\u001b[39m.\u001b[39mindex)\n",
      "File \u001b[0;32m~/Coding/development/stocksapp/stocksappenv/lib/python3.9/site-packages/pandas/_libs/lib.pyx:2859\u001b[0m, in \u001b[0;36mpandas._libs.lib.map_infer\u001b[0;34m()\u001b[0m\n",
      "\u001b[1;32m/Users/karimkhalil/Coding/development/stocksapp/notebooks/index_1.ipynb Cell 12\u001b[0m in \u001b[0;36m<lambda>\u001b[0;34m(x)\u001b[0m\n\u001b[0;32m----> <a href='vscode-notebook-cell:/Users/karimkhalil/Coding/development/stocksapp/notebooks/index_1.ipynb#X26sZmlsZQ%3D%3D?line=0'>1</a>\u001b[0m df_idx_price[\u001b[39m'\u001b[39m\u001b[39mdate\u001b[39m\u001b[39m'\u001b[39m]\u001b[39m.\u001b[39mapply(\u001b[39mlambda\u001b[39;00m x: x\u001b[39m.\u001b[39;49misoformat())\n",
      "\u001b[0;31mAttributeError\u001b[0m: 'str' object has no attribute 'isoformat'"
     ]
    }
   ],
   "source": [
    "df_idx_price['date'].apply(lambda x: x.isoformat())"
   ]
  },
  {
   "cell_type": "code",
   "execution_count": 36,
   "metadata": {},
   "outputs": [],
   "source": [
    "cols = [i for i in df_idx_all.columns if i != '_id']"
   ]
  },
  {
   "cell_type": "code",
   "execution_count": 38,
   "metadata": {},
   "outputs": [],
   "source": [
    "d =df_fig.to_dict('records')[0]"
   ]
  },
  {
   "cell_type": "code",
   "execution_count": 54,
   "metadata": {},
   "outputs": [
    {
     "data": {
      "text/plain": [
       "str"
      ]
     },
     "execution_count": 54,
     "metadata": {},
     "output_type": "execute_result"
    }
   ],
   "source": [
    "type(d['date'])"
   ]
  },
  {
   "cell_type": "code",
   "execution_count": 26,
   "metadata": {},
   "outputs": [
    {
     "data": {
      "text/plain": [
       "'01/01/1970'"
      ]
     },
     "execution_count": 26,
     "metadata": {},
     "output_type": "execute_result"
    }
   ],
   "source": [
    "pd.to_datetime(df_idx_price['datetime'].idxmax()).strftime(\"%m/%d/%Y\")"
   ]
  },
  {
   "cell_type": "code",
   "execution_count": 11,
   "metadata": {},
   "outputs": [
    {
     "data": {
      "text/plain": [
       "datetime.datetime(1995, 8, 5, 0, 0)"
      ]
     },
     "execution_count": 11,
     "metadata": {},
     "output_type": "execute_result"
    }
   ],
   "source": [
    "datetime(1995, 8, 5)"
   ]
  },
  {
   "cell_type": "code",
   "execution_count": 12,
   "metadata": {},
   "outputs": [
    {
     "data": {
      "text/plain": [
       "datetime.datetime(2010, 1, 1, 0, 0)"
      ]
     },
     "execution_count": 12,
     "metadata": {},
     "output_type": "execute_result"
    }
   ],
   "source": [
    "datetime.strptime('2010-01-01', '%Y-%m-%d')"
   ]
  },
  {
   "cell_type": "code",
   "execution_count": 13,
   "metadata": {},
   "outputs": [
    {
     "data": {
      "text/plain": [
       "'1995-08-05'"
      ]
     },
     "execution_count": 13,
     "metadata": {},
     "output_type": "execute_result"
    }
   ],
   "source": [
    "datetime.strftime(datetime(1995, 8, 5), '%Y-%m-%d')"
   ]
  },
  {
   "cell_type": "code",
   "execution_count": 17,
   "metadata": {},
   "outputs": [
    {
     "data": {
      "text/plain": [
       "list"
      ]
     },
     "execution_count": 17,
     "metadata": {},
     "output_type": "execute_result"
    }
   ],
   "source": [
    "type(df_idx_price.to_dict('records'))"
   ]
  },
  {
   "cell_type": "code",
   "execution_count": null,
   "metadata": {},
   "outputs": [],
   "source": []
  }
 ],
 "metadata": {
  "kernelspec": {
   "display_name": "Python 3.9.12 (conda)",
   "language": "python",
   "name": "python3"
  },
  "language_info": {
   "codemirror_mode": {
    "name": "ipython",
    "version": 3
   },
   "file_extension": ".py",
   "mimetype": "text/x-python",
   "name": "python",
   "nbconvert_exporter": "python",
   "pygments_lexer": "ipython3",
   "version": "3.9.12"
  },
  "orig_nbformat": 4,
  "vscode": {
   "interpreter": {
    "hash": "58c223fc00643603dab7ec4558f63a90e8963ab29c712c6f4f790c02391349f1"
   }
  }
 },
 "nbformat": 4,
 "nbformat_minor": 2
}
